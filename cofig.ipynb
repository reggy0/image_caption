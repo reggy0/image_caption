{
  "nbformat": 4,
  "nbformat_minor": 0,
  "metadata": {
    "colab": {
      "name": "cofig.ipynb",
      "provenance": [],
      "authorship_tag": "ABX9TyN+XITcQ7LU9xzowbH6IOou",
      "include_colab_link": true
    },
    "kernelspec": {
      "name": "python3",
      "display_name": "Python 3"
    },
    "language_info": {
      "name": "python"
    }
  },
  "cells": [
    {
      "cell_type": "markdown",
      "metadata": {
        "id": "view-in-github",
        "colab_type": "text"
      },
      "source": [
        "<a href=\"https://colab.research.google.com/github/reggy0/image_caption/blob/main/cofig.ipynb\" target=\"_parent\"><img src=\"https://colab.research.google.com/assets/colab-badge.svg\" alt=\"Open In Colab\"/></a>"
      ]
    },
    {
      "cell_type": "code",
      "execution_count": null,
      "metadata": {
        "id": "0yAAU4hLy4mZ"
      },
      "outputs": [],
      "source": [
        "# All paths are relative to train_val.py file\n",
        "config = {\n",
        "\t'images_path': 'train_val_data/Flicker8k_Dataset/', #Make sure you put that last slash(/)\n",
        "\t'train_data_path': 'train_val_data/Flickr_8k.trainImages.txt',\n",
        "\t'val_data_path': 'train_val_data/Flickr_8k.devImages.txt',\n",
        "\t'captions_path': 'train_val_data/Flickr8k.token.txt',\n",
        "\t'tokenizer_path': 'model_data/tokenizer.pkl',\n",
        "\t'model_data_path': 'model_data/', #Make sure you put that last slash(/)\n",
        "\t'model_load_path': 'model_data/model_inceptionv3_epoch-20_train_loss-2.4050_val_loss-3.0527.hdf5',\n",
        "\t'num_of_epochs': 20,\n",
        "\t'max_length': 40, #This is set manually after training of model and required for test.py\n",
        "\t'batch_size': 64,\n",
        "\t'beam_search_k':3,\n",
        "\t'test_data_path': 'test_data/', #Make sure you put that last slash(/)\n",
        "\t'model_type': 'inceptionv3', # inceptionv3 or vgg16\n",
        "\t'random_seed': 1035\n",
        "}\n",
        "\n",
        "rnnConfig = {\n",
        "\t'embedding_size': 300,\n",
        "\t'LSTM_units': 256,\n",
        "\t'dense_units': 256,\n",
        "\t'dropout': 0.3\n",
        "}"
      ]
    }
  ]
}